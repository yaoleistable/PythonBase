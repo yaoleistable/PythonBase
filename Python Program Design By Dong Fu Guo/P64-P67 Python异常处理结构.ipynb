{
 "cells": [
  {
   "cell_type": "markdown",
   "source": [
    "@author: YaoLei"
   ],
   "metadata": {
    "collapsed": false
   }
  },
  {
   "cell_type": "markdown",
   "source": [
    "# P64 1：基础知识\n",
    "1. 提高程序的健壮性\n",
    "2. Exception"
   ],
   "metadata": {
    "collapsed": false,
    "pycharm": {
     "name": "#%% md\n"
    }
   }
  },
  {
   "cell_type": "code",
   "source": [
    "# try...except结构\n",
    "while True:\n",
    "    x = input('please input number:')\n",
    "    try:\n",
    "        x = int(x)\n",
    "        print('You have input {0}'.format(x))\n",
    "        break\n",
    "    except Exception as e:\n",
    "        print('Error,{0}'.format(e)) "
   ],
   "metadata": {
    "collapsed": false,
    "pycharm": {
     "name": "#%% \n",
     "is_executing": false
    }
   },
   "execution_count": 2,
   "outputs": [
    {
     "name": "stdout",
     "text": [
      "Error,invalid literal for int() with base 10: '5s'\n",
      "Error,invalid literal for int() with base 10: '5g'\n",
      "You have input 5\n"
     ],
     "output_type": "stream"
    }
   ]
  },
  {
   "cell_type": "code",
   "execution_count": 2,
   "outputs": [
    {
     "name": "stdout",
     "text": [
      "China\n"
     ],
     "output_type": "stream"
    }
   ],
   "source": [
    "# try...except...else结构\n",
    "a_list =['China','America','England','France']\n",
    "while True:\n",
    "    n = input('请输入字符串的序号:')\n",
    "    try:\n",
    "        n = int(n)\n",
    "        print(a_list[n])\n",
    "    except IndexError:\n",
    "        print('列表元素的下标越界，请重新输入字符串的序号')\n",
    "    else:\n",
    "        break"
   ],
   "metadata": {
    "collapsed": false,
    "pycharm": {
     "name": "#%%\n",
     "is_executing": false
    }
   }
  },
  {
   "cell_type": "code",
   "execution_count": 4,
   "outputs": [
    {
     "name": "stdout",
     "text": [
      "5 / 6 = 0.83\n"
     ],
     "output_type": "stream"
    }
   ],
   "source": [
    "# 8.3.3 带有多个except的try结构\n",
    "try:\n",
    "    x = input('请输入被除数:')\n",
    "    y = input('请输入除数:')\n",
    "    z =float(x)/float(y)\n",
    "except ZeroDivisionError:\n",
    "    print('除数不能为0')\n",
    "except TypeError:\n",
    "    print('被除数和除数应为数值类型')\n",
    "except NameError:\n",
    "    print('变量不存在')\n",
    "else:\n",
    "    print(x,'/', y ,'=', '{0:.2f}'.format(z))\n"
   ],
   "metadata": {
    "collapsed": false,
    "pycharm": {
     "name": "#%%\n",
     "is_executing": false
    }
   }
  },
  {
   "cell_type": "code",
   "execution_count": 6,
   "outputs": [
    {
     "name": "stdout",
     "text": [
      "hello world\n\n"
     ],
     "output_type": "stream"
    }
   ],
   "source": [
    "# 8.3.4 try...except...finally结构\n",
    "try:\n",
    "     f = open('sample.txt','r')\n",
    "     line = f.readline()\n",
    "     print(line)\n",
    "except IOError as e:\n",
    "    print(e)\n",
    "finally:\n",
    "    f.close()\n"
   ],
   "metadata": {
    "collapsed": false,
    "pycharm": {
     "name": "#%%\n",
     "is_executing": false
    }
   }
  },
  {
   "cell_type": "code",
   "execution_count": 7,
   "outputs": [
    {
     "name": "stdout",
     "text": [
      "AssertionError:a must be equal to b\n"
     ],
     "output_type": "stream"
    }
   ],
   "source": [
    "# 断言语句\n",
    "# assert expression[,reason]\n",
    "a = 3\n",
    "b = 5\n",
    "try:\n",
    "    assert  a==b, 'a must be equal to b'\n",
    "except AssertionError as reason:\n",
    "    print('%s:%s'%(reason.__class__.__name__,reason))\n"
   ],
   "metadata": {
    "collapsed": false,
    "pycharm": {
     "name": "#%%\n",
     "is_executing": false
    }
   }
  },
  {
   "cell_type": "markdown",
   "source": [
    "# P65 2：常见异常处理结构\n",
    "\n",
    "# P66 3：使用IDLE调试程序\n",
    "\n",
    "# P67 4：使用pdb模块调试程序"
   ],
   "metadata": {
    "collapsed": false
   }
  }
 ],
 "metadata": {
  "kernelspec": {
   "display_name": "Python 3",
   "language": "python",
   "name": "python3"
  },
  "language_info": {
   "codemirror_mode": {
    "name": "ipython",
    "version": 2
   },
   "file_extension": ".py",
   "mimetype": "text/x-python",
   "name": "python",
   "nbconvert_exporter": "python",
   "pygments_lexer": "ipython2",
   "version": "2.7.6"
  },
  "pycharm": {
   "stem_cell": {
    "cell_type": "raw",
    "source": [],
    "metadata": {
     "collapsed": false
    }
   }
  }
 },
 "nbformat": 4,
 "nbformat_minor": 0
}